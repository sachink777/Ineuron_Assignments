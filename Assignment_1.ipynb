{
 "cells": [
  {
   "cell_type": "raw",
   "metadata": {},
   "source": [
    "1. In the below elements which of them are values or an expression? eg:- values can be\n",
    "integer or string and expressions will be mathematical operators."
   ]
  },
  {
   "cell_type": "raw",
   "metadata": {},
   "source": [
    "*       -- Mathematical Operator\n",
    "&#39;hello&#39; -- string value\n",
    "-87.8   -- int value\n",
    "-       --  Mathematical Operator\n",
    "/       --  Mathematical Operator\n",
    "+       --  Mathematical Operator\n",
    "6       --  int value"
   ]
  },
  {
   "cell_type": "raw",
   "metadata": {},
   "source": [
    "2. What is the difference between string and variable?"
   ]
  },
  {
   "cell_type": "raw",
   "metadata": {},
   "source": [
    "a string is a value representing text a variable is a name that can refer to any value quotes.\n",
    "\n",
    "Example : \n",
    "\n",
    "Var = 5   ......... where Var is the variable\n",
    "string = \"Ineuron\" .. where ineuron is string"
   ]
  },
  {
   "cell_type": "raw",
   "metadata": {},
   "source": [
    "3. Describe three different data types."
   ]
  },
  {
   "cell_type": "raw",
   "metadata": {},
   "source": [
    "Data Types :\n",
    "    1. int     eg. 4\n",
    "    2. float   eg. 4.4\n",
    "    3. str     eg. 'Ineuron'\n",
    "    4. complex eg. 4+5j"
   ]
  },
  {
   "cell_type": "raw",
   "metadata": {},
   "source": [
    "4. What is an expression made up of? What do all expressions do?  "
   ]
  },
  {
   "cell_type": "raw",
   "metadata": {},
   "source": [
    "expression made up of values, mathematical operator and containers eg - 2+3\n",
    "expression are used to evalute the values or represent the result on the screen"
   ]
  },
  {
   "cell_type": "raw",
   "metadata": {},
   "source": [
    "5. This assignment statements, like spam = 10. What is the difference between an\n",
    "expression and a statement?"
   ]
  },
  {
   "cell_type": "raw",
   "metadata": {},
   "source": [
    "spam = 10 is simply spam variable holding the value 10. \n",
    "expression is nothing but combination of values mathematical operators and containers.\n",
    "expression evalute the values and statement simply assign value to variable."
   ]
  },
  {
   "cell_type": "raw",
   "metadata": {},
   "source": [
    "6. After running the following code, what does the variable bacon contain?\n",
    "bacon = 22\n",
    "bacon + 1"
   ]
  },
  {
   "cell_type": "code",
   "execution_count": 1,
   "metadata": {},
   "outputs": [
    {
     "data": {
      "text/plain": [
       "23"
      ]
     },
     "execution_count": 1,
     "metadata": {},
     "output_type": "execute_result"
    }
   ],
   "source": [
    "bacon = 22\n",
    "bacon + 1\n",
    "# 23 because value assign to bacon variable is 22 hence 22+1= 23"
   ]
  },
  {
   "cell_type": "raw",
   "metadata": {},
   "source": [
    "7. What should the values of the following two terms be?\n",
    "&#39;spam&#39; + &#39;spamspam&#39;\n",
    "&#39;spam&#39; * 3"
   ]
  },
  {
   "cell_type": "code",
   "execution_count": 8,
   "metadata": {},
   "outputs": [
    {
     "name": "stdout",
     "output_type": "stream",
     "text": [
      "&#39;spam&#39 &#39spamspam&#39\n",
      "&#39;spam&#39 &#39;spam&#39 &#39;spam&#39 \n"
     ]
    }
   ],
   "source": [
    "print('&#39;spam&#39 ' + '&#39' 'spamspam&#39')\n",
    "print('&#39;spam&#39 ' *3)"
   ]
  },
  {
   "cell_type": "raw",
   "metadata": {},
   "source": [
    "8. Why is eggs a valid variable name while 100 is invalid?"
   ]
  },
  {
   "cell_type": "raw",
   "metadata": {},
   "source": [
    "Because vaible name should start with charachter not a number.\n",
    "eg var1 is valid variable name but 1var is not"
   ]
  },
  {
   "cell_type": "raw",
   "metadata": {},
   "source": [
    "9. What three functions can be used to get the integer, floating-point number, or string\n",
    "version of a value?"
   ]
  },
  {
   "cell_type": "code",
   "execution_count": 15,
   "metadata": {},
   "outputs": [
    {
     "name": "stdout",
     "output_type": "stream",
     "text": [
      "10\n",
      "<class 'str'>\n",
      "10\n",
      "<class 'int'>\n",
      "10.0\n",
      "<class 'float'>\n"
     ]
    }
   ],
   "source": [
    "# function - str, int, float\n",
    "\n",
    "print(str(10))\n",
    "print(type(str(10)))\n",
    "print(int(10))\n",
    "print(type(int(10)))\n",
    "print(float(10))\n",
    "print(type(float(10)))"
   ]
  },
  {
   "cell_type": "raw",
   "metadata": {},
   "source": [
    "10. Why does this expression cause an error? How can you fix it?\n",
    "&#39;I have eaten &#39; + 99 +"
   ]
  },
  {
   "cell_type": "code",
   "execution_count": 18,
   "metadata": {},
   "outputs": [
    {
     "data": {
      "text/plain": [
       "'&#39I have eaten &#3999'"
      ]
     },
     "execution_count": 18,
     "metadata": {},
     "output_type": "execute_result"
    }
   ],
   "source": [
    "# user can not perform concatinate operation with diff. data types. data types of all element shoul be same.\n",
    "# in given example 99 is int so user can convert it into string and then add the string.\n",
    "\n",
    "'&#39' + 'I have eaten &#39' + '99' "
   ]
  },
  {
   "cell_type": "code",
   "execution_count": null,
   "metadata": {},
   "outputs": [],
   "source": []
  }
 ],
 "metadata": {
  "kernelspec": {
   "display_name": "Python 3",
   "language": "python",
   "name": "python3"
  },
  "language_info": {
   "codemirror_mode": {
    "name": "ipython",
    "version": 3
   },
   "file_extension": ".py",
   "mimetype": "text/x-python",
   "name": "python",
   "nbconvert_exporter": "python",
   "pygments_lexer": "ipython3",
   "version": "3.8.3"
  }
 },
 "nbformat": 4,
 "nbformat_minor": 4
}
