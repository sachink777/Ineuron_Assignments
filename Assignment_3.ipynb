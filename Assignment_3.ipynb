{
 "cells": [
  {
   "cell_type": "markdown",
   "metadata": {},
   "source": [
    "# 1. Why are functions advantageous to have in your programs?"
   ]
  },
  {
   "cell_type": "raw",
   "metadata": {},
   "source": [
    "Advantage: 1. Functio helps to devide program into modules, so that it will easy to read,debug,manage and understand.\n",
    "           2. re-usability of the code,\n",
    "           3. modular programming approch "
   ]
  },
  {
   "cell_type": "markdown",
   "metadata": {},
   "source": [
    "# 2. When does the code in a function run: when it is specified or when it id called?"
   ]
  },
  {
   "cell_type": "code",
   "execution_count": null,
   "metadata": {},
   "outputs": [],
   "source": [
    "# Function run when it is called \n",
    "\n",
    "# eg : \n",
    "\n",
    "def add(a,b):\n",
    "    return a+b\n",
    "add(4,5)      # add function called here"
   ]
  },
  {
   "cell_type": "markdown",
   "metadata": {},
   "source": [
    "# 3. What statement creates a function?"
   ]
  },
  {
   "cell_type": "raw",
   "metadata": {},
   "source": [
    "def --- is the function use to create the function.\n",
    "\n",
    "def function_name():      # syntax for the function creation "
   ]
  },
  {
   "cell_type": "markdown",
   "metadata": {},
   "source": [
    "# 4. What is the difference between a function and a function call?"
   ]
  },
  {
   "cell_type": "raw",
   "metadata": {},
   "source": [
    "Function is a procedure by using user can write any specific code in reusable and modular format.\n",
    "Function call means when you call that function to perform that task.\n",
    "\n",
    "eg :\n",
    "\n",
    "def len(lst):                <--  This is the function len\n",
    "    c=0\n",
    "    for i in lst:\n",
    "        c=c+1\n",
    "    return c\n",
    "len([1,2,3,4,5])              <---  We are calling function here\n"
   ]
  },
  {
   "cell_type": "markdown",
   "metadata": {},
   "source": [
    "# 5. How many global scopes are there in a Python program? How many local scopes?"
   ]
  },
  {
   "cell_type": "raw",
   "metadata": {},
   "source": [
    "There are two scopes are available in python programm. Global variable scope and local varible scope\n",
    "\n",
    "Global :\n",
    "    global variable usually define outside of the function and can be use on any where.\n",
    "Local:\n",
    "    local variable define inside the function and can only use inside the function. "
   ]
  },
  {
   "cell_type": "markdown",
   "metadata": {},
   "source": [
    "# 6. What happens to variables in a local scope when the function call returns?"
   ]
  },
  {
   "cell_type": "raw",
   "metadata": {},
   "source": [
    " When a function returns, the local scope is destroyed, and all the variables in it are forgotten."
   ]
  },
  {
   "cell_type": "markdown",
   "metadata": {},
   "source": [
    "# 7. What is the concept of a return value? Is it possible to have a return value in an expression?\n"
   ]
  },
  {
   "cell_type": "raw",
   "metadata": {},
   "source": [
    "return statement returns the value of the function or expression and yes return can returns the value of expression if the\n",
    "expression is written inside the function.\n",
    "\n",
    "e.g. \n",
    "\n",
    "def add(a,b):\n",
    "    return a+b\n",
    "add(4,5"
   ]
  },
  {
   "cell_type": "markdown",
   "metadata": {},
   "source": [
    "# 8. If a function does not have a return statement, what is the return value of a call to that function?\n"
   ]
  },
  {
   "cell_type": "raw",
   "metadata": {},
   "source": [
    "if statement does not have return statement it will return none"
   ]
  },
  {
   "cell_type": "markdown",
   "metadata": {},
   "source": [
    "# 9. How do you make a function variable refer to the global variable?\n"
   ]
  },
  {
   "cell_type": "raw",
   "metadata": {},
   "source": [
    "A global statement will force a variable in a function to refer to the global variable."
   ]
  },
  {
   "cell_type": "markdown",
   "metadata": {},
   "source": [
    "# 10. What is the data type of None?\n"
   ]
  },
  {
   "cell_type": "raw",
   "metadata": {},
   "source": [
    "Data type of none is None"
   ]
  },
  {
   "cell_type": "markdown",
   "metadata": {},
   "source": [
    "# 11. What does the sentence import areallyourpetsnamederic do?\n"
   ]
  },
  {
   "cell_type": "raw",
   "metadata": {},
   "source": [
    "it will import module by   import areallyourpetsnamederic"
   ]
  },
  {
   "cell_type": "markdown",
   "metadata": {},
   "source": [
    "# 12. If you had a bacon() feature in a spam module, what would you call it after importing spam?\n"
   ]
  },
  {
   "cell_type": "raw",
   "metadata": {},
   "source": [
    "sapm.bacon()"
   ]
  },
  {
   "cell_type": "markdown",
   "metadata": {},
   "source": [
    "# 13. What can you do to save a programme from crashing if it encounters an error?\n"
   ]
  },
  {
   "cell_type": "raw",
   "metadata": {},
   "source": [
    "use exception handling (try, clause) to write programme"
   ]
  },
  {
   "cell_type": "markdown",
   "metadata": {},
   "source": [
    "# 14. What is the purpose of the try clause? What is the purpose of the except clause?"
   ]
  },
  {
   "cell_type": "raw",
   "metadata": {},
   "source": [
    "try: -- try caluse is used to write the code \n",
    "except caluse is used to handle the error which might be occur by code which is written in try caluse"
   ]
  },
  {
   "cell_type": "code",
   "execution_count": null,
   "metadata": {},
   "outputs": [],
   "source": []
  }
 ],
 "metadata": {
  "kernelspec": {
   "display_name": "Python 3",
   "language": "python",
   "name": "python3"
  },
  "language_info": {
   "codemirror_mode": {
    "name": "ipython",
    "version": 3
   },
   "file_extension": ".py",
   "mimetype": "text/x-python",
   "name": "python",
   "nbconvert_exporter": "python",
   "pygments_lexer": "ipython3",
   "version": "3.8.3"
  }
 },
 "nbformat": 4,
 "nbformat_minor": 4
}
