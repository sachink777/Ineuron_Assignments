{
 "cells": [
  {
   "cell_type": "markdown",
   "metadata": {},
   "source": [
    "# 1.What are the two values of the Boolean data type? How do you write them?"
   ]
  },
  {
   "cell_type": "code",
   "execution_count": null,
   "metadata": {},
   "outputs": [],
   "source": [
    "# values of boolean data types# True=1 , False=0\n",
    "True+False"
   ]
  },
  {
   "cell_type": "markdown",
   "metadata": {},
   "source": [
    "# 2. What are the three different types of Boolean operators?"
   ]
  },
  {
   "cell_type": "code",
   "execution_count": null,
   "metadata": {},
   "outputs": [],
   "source": [
    "and, or, not  --- these are 3 different types of boolean operators."
   ]
  },
  {
   "cell_type": "markdown",
   "metadata": {},
   "source": [
    "# 3. Make a list of each Boolean operator&#39;s truth tables (i.e. every possible combination of Boolean\n",
    "values for the operator and what it evaluate )."
   ]
  },
  {
   "cell_type": "code",
   "execution_count": null,
   "metadata": {},
   "outputs": [],
   "source": [
    "# boolean operator:\n",
    "\n",
    "# Truth table\n",
    "not:\n",
    "    1=0\n",
    "    0=1\n",
    "and:\n",
    "    a b o/p\n",
    "    0 0 0\n",
    "    0 1 0\n",
    "    1 0 0\n",
    "    1 1 1\n",
    "    \n",
    "or :\n",
    "    a b o/p\n",
    "    0 0 0\n",
    "    0 1 1\n",
    "    1 0 1\n",
    "    1 1 1\n",
    "\n",
    "\n",
    "#     and = if both the condition apply are equal then only and operator return true\n",
    "\n",
    "\n",
    "if 1==1 and 2==2:\n",
    "    print(True)\n",
    "else:\n",
    "    print(False)\n",
    "    \n",
    "#     or = if any condition apply to or is true then it returns true\n",
    "    \n",
    "if 1==1 or 2==1:\n",
    "    print(True)\n",
    "else:\n",
    "    print(False)\n",
    "\n",
    "#     not = not represent inversion of the truth value.\n",
    "    \n",
    "if 10==(not(10)):\n",
    "    print(True)\n",
    "else:\n",
    "    print(False)"
   ]
  },
  {
   "cell_type": "markdown",
   "metadata": {},
   "source": [
    "# 4. What are the values of the following expressions?\n",
    "(5 &gt; 4) and (3 == 5)\n",
    "not (5 &gt; 4)\n",
    "(5 &gt; 4) or (3 == 5)\n",
    "not ((5 &gt; 4) or (3 == 5))\n",
    "(True and True) and (True == False)\n",
    "(not False) or (not True)"
   ]
  },
  {
   "cell_type": "code",
   "execution_count": null,
   "metadata": {},
   "outputs": [],
   "source": [
    "(5 > 4) and (3 == 5)"
   ]
  },
  {
   "cell_type": "code",
   "execution_count": null,
   "metadata": {},
   "outputs": [],
   "source": [
    "(True and True) and (True == False)"
   ]
  },
  {
   "cell_type": "code",
   "execution_count": null,
   "metadata": {},
   "outputs": [],
   "source": [
    "(not False) or (not True)"
   ]
  },
  {
   "cell_type": "code",
   "execution_count": null,
   "metadata": {},
   "outputs": [],
   "source": [
    "not(5>4)"
   ]
  },
  {
   "cell_type": "code",
   "execution_count": null,
   "metadata": {},
   "outputs": [],
   "source": [
    "(5 > 4) or (3 == 5)"
   ]
  },
  {
   "cell_type": "code",
   "execution_count": null,
   "metadata": {},
   "outputs": [],
   "source": [
    "not ((5 > 4) or (3 == 5))"
   ]
  },
  {
   "cell_type": "markdown",
   "metadata": {},
   "source": [
    "# 5. What are the six comparison operators?"
   ]
  },
  {
   "cell_type": "raw",
   "metadata": {},
   "source": [
    "1. equal to ==\n",
    "2. not equal to  !=\n",
    "3. greater than >\n",
    "4. less than   <\n",
    "5. greater than equal to  >=\n",
    "6. less than equal to  <="
   ]
  },
  {
   "cell_type": "markdown",
   "metadata": {},
   "source": [
    "# 6. How do you tell the difference between the equal to and assignment operators?Describe a\n",
    "condition and when you would use one."
   ]
  },
  {
   "cell_type": "raw",
   "metadata": {},
   "source": [
    "equal to is comparison operator used to check equal condition (==)\n",
    "assignment operator is used to assign value tyo any specific variable (=)\n",
    "\n",
    "\n",
    "eg.\n",
    "equal to\n",
    "10 == 10  \n",
    "\n",
    "assignment operator \n",
    "a=10"
   ]
  },
  {
   "cell_type": "markdown",
   "metadata": {},
   "source": [
    "# 7. Identify the three blocks in this code:\n",
    "\n",
    "in the given program we are checking the value of spam\n",
    "value of smap bydefault is 10\n",
    "but in both the condition value of spam does not match\n",
    "hence finally else block is printed"
   ]
  },
  {
   "cell_type": "code",
   "execution_count": null,
   "metadata": {},
   "outputs": [],
   "source": [
    "spam = 0\n",
    "if spam == 10:\n",
    "    print('&#39;eggs&#39')\n",
    "if spam > 5:\n",
    "    print('&#39;bacon&#39;')\n",
    "else:\n",
    "    print('&#39;bacon&#39;')\n",
    "    print('&#39;bacon&#39;')\n",
    "    print('&#39;bacon&#39;')"
   ]
  },
  {
   "cell_type": "markdown",
   "metadata": {},
   "source": [
    "# 8. Write code that prints Hello if 1 is stored in spam, prints Howdy if 2 is stored in spam, and prints\n",
    "Greetings! if anything else is stored in spam."
   ]
  },
  {
   "cell_type": "code",
   "execution_count": null,
   "metadata": {},
   "outputs": [],
   "source": [
    "def boolean(spam):\n",
    "    if spam == 1:\n",
    "        return 'Hello'\n",
    "    elif spam == 2:\n",
    "        return 'Howdy'\n",
    "    else:\n",
    "        return 'Greetings'\n",
    "boolean(int(input('please enter the number')))"
   ]
  },
  {
   "cell_type": "markdown",
   "metadata": {},
   "source": [
    "# 9.If your programme is stuck in an endless loop, what keys you’ll press?\n",
    "ans -- ctrl c, or you can do reset kernel"
   ]
  },
  {
   "cell_type": "markdown",
   "metadata": {},
   "source": [
    "# 10. How can you tell the difference between break and continue?"
   ]
  },
  {
   "cell_type": "raw",
   "metadata": {},
   "source": [
    "break statement is use to break the loop, when condition will be satisfied \n",
    "eg :\n",
    "\n"
   ]
  },
  {
   "cell_type": "code",
   "execution_count": 7,
   "metadata": {},
   "outputs": [
    {
     "name": "stdout",
     "output_type": "stream",
     "text": [
      "3\n"
     ]
    }
   ],
   "source": [
    "def find_element(lst):\n",
    "    for i in lst:\n",
    "        if lst[i] == 4:\n",
    "            yield i\n",
    "            break                  #Here break statement will break the if loop when element 4 will return \n",
    "for i in (find_element([1,2,3,4,5,6,7,8,9])):\n",
    "    print(i)"
   ]
  },
  {
   "cell_type": "raw",
   "metadata": {},
   "source": [
    "The continue statement rejects all the remaining statements in the current iteration of the loop\n",
    "and moves the control back to the top of the loop."
   ]
  },
  {
   "cell_type": "code",
   "execution_count": 3,
   "metadata": {},
   "outputs": [
    {
     "name": "stdout",
     "output_type": "stream",
     "text": [
      "Current Letter : P\n",
      "Current Letter : y\n",
      "Current Letter : t\n",
      "Current Letter : o\n",
      "Current Letter : n\n"
     ]
    }
   ],
   "source": [
    "for letter in 'Python':     # Example\n",
    "    if letter == 'h':\n",
    "        continue\n",
    "    print ('Current Letter :', letter)"
   ]
  },
  {
   "cell_type": "markdown",
   "metadata": {},
   "source": [
    "# 11. In a for loop, what is the difference between range(10), range(0, 10), and range(0, 10, 1)?\n",
    "ans --\n",
    "\n",
    "all three will provide same result\n",
    "\n",
    "for i in range(0,10,1)\n",
    "where 0 is the starting point, 10 is the end limit of for loop , final element (1) is steps.\n",
    "NOTE- loop always end with end-1."
   ]
  },
  {
   "cell_type": "code",
   "execution_count": 17,
   "metadata": {},
   "outputs": [
    {
     "name": "stdout",
     "output_type": "stream",
     "text": [
      "0\n",
      "1\n",
      "2\n",
      "3\n",
      "4\n"
     ]
    }
   ],
   "source": [
    "for i in range(10):\n",
    "    print(i)"
   ]
  },
  {
   "cell_type": "code",
   "execution_count": 18,
   "metadata": {},
   "outputs": [
    {
     "name": "stdout",
     "output_type": "stream",
     "text": [
      "0\n",
      "1\n",
      "2\n",
      "3\n",
      "4\n"
     ]
    }
   ],
   "source": [
    "for i in range(0,10):\n",
    "    print(i)"
   ]
  },
  {
   "cell_type": "code",
   "execution_count": 20,
   "metadata": {},
   "outputs": [
    {
     "name": "stdout",
     "output_type": "stream",
     "text": [
      "0\n",
      "1\n",
      "2\n",
      "3\n",
      "4\n",
      "5\n",
      "6\n",
      "7\n",
      "8\n",
      "9\n"
     ]
    }
   ],
   "source": [
    "for i in range(0,10,1):\n",
    "    print(i)"
   ]
  },
  {
   "cell_type": "markdown",
   "metadata": {},
   "source": [
    "# 12. Write a short program that prints the numbers 1 to 10 using a for loop. Then write an equivalent\n",
    "program that prints the numbers 1 to 10 using a while loop."
   ]
  },
  {
   "cell_type": "code",
   "execution_count": 22,
   "metadata": {},
   "outputs": [
    {
     "name": "stdout",
     "output_type": "stream",
     "text": [
      "i is :  1\n",
      "i is :  2\n",
      "i is :  3\n",
      "i is :  4\n",
      "i is :  5\n",
      "i is :  6\n",
      "i is :  7\n",
      "i is :  8\n",
      "i is :  9\n",
      "i is :  10\n",
      "c is :  1\n",
      "c is :  2\n",
      "c is :  3\n",
      "c is :  4\n",
      "c is :  5\n",
      "c is :  6\n",
      "c is :  7\n",
      "c is :  8\n",
      "c is :  9\n",
      "c is :  10\n"
     ]
    }
   ],
   "source": [
    "for i in range(1,11):\n",
    "    print('i is : ',i)\n",
    "    \n",
    "c=0\n",
    "while c < 10:\n",
    "    c=c+1\n",
    "    print('c is : ', c)\n"
   ]
  },
  {
   "cell_type": "markdown",
   "metadata": {},
   "source": [
    "# 13. If you had a function named bacon() inside a module named spam, how would you call it after\n"
   ]
  },
  {
   "cell_type": "raw",
   "metadata": {},
   "source": [
    "# we can call the function by following approch:\n",
    "\"from spam import bacon\""
   ]
  },
  {
   "cell_type": "code",
   "execution_count": null,
   "metadata": {},
   "outputs": [],
   "source": []
  }
 ],
 "metadata": {
  "kernelspec": {
   "display_name": "Python 3",
   "language": "python",
   "name": "python3"
  },
  "language_info": {
   "codemirror_mode": {
    "name": "ipython",
    "version": 3
   },
   "file_extension": ".py",
   "mimetype": "text/x-python",
   "name": "python",
   "nbconvert_exporter": "python",
   "pygments_lexer": "ipython3",
   "version": "3.8.3"
  }
 },
 "nbformat": 4,
 "nbformat_minor": 4
}
